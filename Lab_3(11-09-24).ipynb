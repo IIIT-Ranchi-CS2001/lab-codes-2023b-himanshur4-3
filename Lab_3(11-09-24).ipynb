{
 "cells": [
  {
   "cell_type": "code",
   "execution_count": 1,
   "id": "e031f4d3-4caa-4598-b14a-bebcb9f8eac9",
   "metadata": {},
   "outputs": [
    {
     "name": "stdin",
     "output_type": "stream",
     "text": [
      "Enter a Number: 5\n"
     ]
    },
    {
     "name": "stdout",
     "output_type": "stream",
     "text": [
      "1 1\n",
      "2 4\n",
      "3 9\n",
      "4 16\n",
      "5 25\n"
     ]
    }
   ],
   "source": [
    "#1. Write a python script to find the squares of first n natural numbers\n",
    "n=int(input(\"Enter a Number:\"))\n",
    "i=1\n",
    "while i<=n:\n",
    "    print(i,i*i)\n",
    "    i+=1"
   ]
  },
  {
   "cell_type": "code",
   "execution_count": null,
   "id": "6810c4a1-04d6-48d0-857b-77d60b183404",
   "metadata": {},
   "outputs": [],
   "source": []
  },
  {
   "cell_type": "code",
   "execution_count": 5,
   "id": "5071d299-ae38-4599-a231-8180737c879e",
   "metadata": {},
   "outputs": [
    {
     "name": "stdin",
     "output_type": "stream",
     "text": [
      "Enter a number 6536\n"
     ]
    },
    {
     "name": "stdout",
     "output_type": "stream",
     "text": [
      "Number: 6536\n",
      "Sum of digits of the number: 20\n"
     ]
    }
   ],
   "source": [
    "#2. Write a python script to find the sum of the digits of the given number using a while loop. Display the number and the sum.\n",
    "\n",
    "n=int(input(\"Enter a number\"))\n",
    "num=n\n",
    "i=n%10\n",
    "sum=0\n",
    "while n!=0:\n",
    "    sum+=i\n",
    "    n=n//10\n",
    "    i=n%10\n",
    "print(\"Number: %d\" %num)\n",
    "print(\"Sum of digits of the number: %d\" %sum)\n",
    "\n",
    "    "
   ]
  },
  {
   "cell_type": "code",
   "execution_count": 23,
   "id": "e3407be4-9c6a-4d69-8283-a010d913ac69",
   "metadata": {},
   "outputs": [
    {
     "name": "stdin",
     "output_type": "stream",
     "text": [
      "Enter value of n: 6\n"
     ]
    },
    {
     "name": "stdout",
     "output_type": "stream",
     "text": [
      "Fibonacci Series for index 6 is:\n",
      "0\n",
      "1\n",
      "1\n",
      "2\n",
      "3\n",
      "5\n"
     ]
    }
   ],
   "source": [
    "#3. Write a python script to print the first n terms of the Fibonacci series using while loop\n",
    "n=int(input(\"Enter value of n:\"))\n",
    "a1=0\n",
    "a2=1\n",
    "sum=a1+a2\n",
    "i=2\n",
    "print(\"Fibonacci Series for index %d is:\" %n)\n",
    "print(\"%d\" %a1)\n",
    "while i<=n:\n",
    "    print(\"%d\" %sum)\n",
    "    sum=a1+a2\n",
    "    a1=a2\n",
    "    a2=sum\n",
    "    i+=1\n",
    "    \n"
   ]
  },
  {
   "cell_type": "code",
   "execution_count": 28,
   "id": "cda7f467-9992-48e5-9a15-fc530609bbb6",
   "metadata": {},
   "outputs": [
    {
     "name": "stdin",
     "output_type": "stream",
     "text": [
      "Enter the Number: 5\n",
      "Enter the limit of the Multiplication Table: 12\n"
     ]
    },
    {
     "name": "stdout",
     "output_type": "stream",
     "text": [
      "Multiplication Table of 5 upto 12 is:\n",
      "5\n",
      "10\n",
      "15\n",
      "20\n",
      "25\n",
      "30\n",
      "35\n",
      "40\n",
      "45\n",
      "50\n",
      "55\n",
      "60\n"
     ]
    }
   ],
   "source": [
    "#4. Write a python script to print the multiplication table of a given number up to the specified limit using a for loop.\n",
    "m=int(input(\"Enter the Number:\"))\n",
    "n=int(input(\"Enter the limit of the Multiplication Table:\"))\n",
    "print(\"Multiplication Table of %d upto %d is:\"%(m,n))\n",
    "for i in range(1,n+1):\n",
    "    print(m*i)"
   ]
  },
  {
   "cell_type": "code",
   "execution_count": 30,
   "id": "da5443d0-f234-470d-9573-c2b82e21b31d",
   "metadata": {},
   "outputs": [
    {
     "name": "stdin",
     "output_type": "stream",
     "text": [
      "Enter the String ygTYTUY^&^\n"
     ]
    },
    {
     "name": "stdout",
     "output_type": "stream",
     "text": [
      "False\n"
     ]
    }
   ],
   "source": [
    "#5. Write a python script to check whether all the characters present in a string are alphanumeric (uppercase letters, lowercase letters or digits) using for  with else. Print True if all characters are alphanumeric. Otherwise print False.\n",
    "str=input(\"Enter the String:\")\n",
    "n=len(str)\n",
    "b=True\n",
    "for i in range(n):\n",
    "    if 'a'<=str[i]<='z' or 'A'<=str[i]<='Z' or '0'<=str[i]<='9':\n",
    "        b=True\n",
    "    else:\n",
    "        b=False\n",
    "        break\n",
    "print(b)"
   ]
  },
  {
   "cell_type": "code",
   "execution_count": 31,
   "id": "2a4140c7-8994-4032-b3dd-13275bce62b0",
   "metadata": {},
   "outputs": [
    {
     "name": "stdin",
     "output_type": "stream",
     "text": [
      "Enter the String: fgsfgfffff23\n",
      "Enter the Character: f\n"
     ]
    },
    {
     "name": "stdout",
     "output_type": "stream",
     "text": [
      "The number of occurrence of f in the fgsfgfffff23 is: 7\n"
     ]
    }
   ],
   "source": [
    "#6. Write a python script to find the number of occurrences of a particular character present in the given string using a loop. (Don’t use string methods)\n",
    "str=input(\"Enter the String:\")\n",
    "n=len(str)\n",
    "ct=0\n",
    "ch=input(\"Enter the Character:\")\n",
    "for i in range(n):\n",
    "    if str[i]==ch:\n",
    "        ct+=1\n",
    "print(\"The number of occurrence of %s in the %s is: %d\"%(ch,str,ct))"
   ]
  },
  {
   "cell_type": "code",
   "execution_count": null,
   "id": "4e016f66-e156-4870-ab24-8dfcd74185ba",
   "metadata": {},
   "outputs": [],
   "source": []
  }
 ],
 "metadata": {
  "kernelspec": {
   "display_name": "Python 3 (ipykernel)",
   "language": "python",
   "name": "python3"
  },
  "language_info": {
   "codemirror_mode": {
    "name": "ipython",
    "version": 3
   },
   "file_extension": ".py",
   "mimetype": "text/x-python",
   "name": "python",
   "nbconvert_exporter": "python",
   "pygments_lexer": "ipython3",
   "version": "3.12.4"
  }
 },
 "nbformat": 4,
 "nbformat_minor": 5
}
