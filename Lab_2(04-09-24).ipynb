{
 "cells": [
  {
   "cell_type": "code",
   "execution_count": 19,
   "id": "cfa8e7cc-36cd-400f-8326-996c437fd732",
   "metadata": {},
   "outputs": [
    {
     "name": "stdout",
     "output_type": "stream",
     "text": [
      "mAHA bHARAT\n",
      "Bharat\n",
      "BharatBharatBharat\n",
      "Mera Bharat\n",
      "Maha Bharat Mahan\n"
     ]
    }
   ],
   "source": [
    "s1=\"Maha Bharat\"\n",
    "print(s1[0].lower()+s1[1:4].upper()+\" \"+s1[5].lower()+s1[6:].upper())\n",
    "print(s1[5:])\n",
    "print((s1[5:])*3)\n",
    "print(s1.replace(\"Maha\",\"Mera\"))\n",
    "s1=f'{s1} Mahan'\n",
    "print(s1)"
   ]
  },
  {
   "cell_type": "code",
   "execution_count": 24,
   "id": "19513796-6d95-4d2f-969b-bbc3daeb1505",
   "metadata": {},
   "outputs": [
    {
     "name": "stdout",
     "output_type": "stream",
     "text": [
      "17\n",
      "14\n",
      "3\n",
      "Ta Ta Black Sheep\n"
     ]
    }
   ],
   "source": [
    "s=\"Ba Ba Black Sheep\"\n",
    "print(len(s))\n",
    "print(s.index('e'))\n",
    "print(s.count('a'))\n",
    "print(s.replace(\"Ba Ba\",\"Ta Ta\"))"
   ]
  },
  {
   "cell_type": "code",
   "execution_count": 26,
   "id": "d35a33c3-171b-4de5-821d-77e6ea26307f",
   "metadata": {},
   "outputs": [
    {
     "name": "stdin",
     "output_type": "stream",
     "text": [
      " appllppa\n"
     ]
    },
    {
     "name": "stdout",
     "output_type": "stream",
     "text": [
      "It is Palindrome\n"
     ]
    }
   ],
   "source": [
    "s2=input()\n",
    "s3=s2[::-1]\n",
    "if s3==s2:\n",
    "    print(\"It is Palindrome\")\n",
    "else:\n",
    "    print(\"Not Palindrome\")\n"
   ]
  },
  {
   "cell_type": "code",
   "execution_count": 32,
   "id": "1be7bca3-0432-44b6-bcf4-6df386b57e4d",
   "metadata": {},
   "outputs": [
    {
     "name": "stdin",
     "output_type": "stream",
     "text": [
      "Enter Name: hi\n",
      "Enter Roll Number: 72\n",
      "Enter Marks Obtained:  82\n"
     ]
    },
    {
     "name": "stdout",
     "output_type": "stream",
     "text": [
      "Details Of Student:\n",
      " {'Name': 'hi', 'Roll Number': 72, 'Marks': 82, 'Grade Point': 9, 'Remark': 'VERY GOOD'}\n"
     ]
    }
   ],
   "source": [
    "student={'Name':input(\"Enter Name:\"),'Roll Number':int(input(\"Enter Roll Number:\")),'Marks':int(input(\"Enter Marks Obtained: \")),'Grade Point':None,'Remark':None}\n",
    "if student['Marks']>=90:\n",
    "    student['Grade Point']=10\n",
    "    student['Remark']=\"OUTSTANDING\"\n",
    "elif student['Marks']>=80 and student['Marks']<90:\n",
    "    student['Grade Point']=9\n",
    "    student['Remark']=\"VERY GOOD\"\n",
    "elif student['Marks']>=70 and student['Marks']<80:\n",
    "    student['Grade Point']=9\n",
    "    student['Remark']=\"GOOD\"\n",
    "elif student['Marks']>=60 and student['Marks']<70:\n",
    "    student['Grade Point']=9\n",
    "    student['Remark']=\"AVERAGE\"\n",
    "elif student['Marks']>=50 and student['Marks']<70:\n",
    "    student['Grade Point']=9\n",
    "    student['Remark']=\"PASS\"\n",
    "else :\n",
    "    student['Grade Point']=0\n",
    "    student['Remark']=\"FAIL\"\n",
    "print(\"Details Of Student:\\n\",student)"
   ]
  },
  {
   "cell_type": "code",
   "execution_count": null,
   "id": "9ebce983-b8be-4977-9bbe-d649fdb25214",
   "metadata": {},
   "outputs": [
    {
     "name": "stdout",
     "output_type": "stream",
     "text": [
      "Enter coefficients of quadratic equation\n"
     ]
    }
   ],
   "source": [
    "import math\n",
    "print(\"Enter coefficients of quadratic equation\")\n",
    "a,b,c=int(input(\"Enter a\")),int(input(\"Enter b\")),int(input(\"Enter c\"))\n",
    "d=b**2-4*a*c\n",
    "if d==0:\n",
    "    re=-b/(2*a)\n",
    "    print(\"Two Equal Roots are:\",re)\n",
    "elif d>0:\n",
    "    r1=(-b+math.sqrt(d))/(2*a)\n",
    "    r2=(-b-math.sqrt(d))/(2*a)\n",
    "    print(\"Two Real Roots are:\",r1,\"and\",r2)\n",
    "else:\n",
    "    rp=-b/(2*a)\n",
    "    ip=math.sqrt(-d)/(2*a)\n",
    "    print(\"It has two Complex Roots:\\n\")\n",
    "    print(\"Real Part:\",rp)\n",
    "    print(\"Imaginary Part:\",ip)"
   ]
  },
  {
   "cell_type": "code",
   "execution_count": null,
   "id": "b3b07f96-2914-403f-bac2-113bb0502232",
   "metadata": {},
   "outputs": [],
   "source": []
  }
 ],
 "metadata": {
  "kernelspec": {
   "display_name": "Python 3 (ipykernel)",
   "language": "python",
   "name": "python3"
  },
  "language_info": {
   "codemirror_mode": {
    "name": "ipython",
    "version": 3
   },
   "file_extension": ".py",
   "mimetype": "text/x-python",
   "name": "python",
   "nbconvert_exporter": "python",
   "pygments_lexer": "ipython3",
   "version": "3.12.4"
  }
 },
 "nbformat": 4,
 "nbformat_minor": 5
}
