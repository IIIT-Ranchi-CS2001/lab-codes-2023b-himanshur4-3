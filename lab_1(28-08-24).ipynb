{
 "cells": [
  {
   "cell_type": "code",
   "execution_count": 6,
   "id": "e3ddb6da-52b4-4cb7-b70d-243533b1e790",
   "metadata": {},
   "outputs": [
    {
     "name": "stdout",
     "output_type": "stream",
     "text": [
      "Enter Numbers\n"
     ]
    },
    {
     "name": "stdin",
     "output_type": "stream",
     "text": [
      " 4\n",
      " 3\n"
     ]
    },
    {
     "name": "stdout",
     "output_type": "stream",
     "text": [
      "Sum: 7\n",
      "Difference: 1\n",
      "Multiplication: 12\n",
      "Quotient: 1\n",
      "Remainder: 1\n",
      "Fractional Quotient: 1.3333333333333333\n"
     ]
    }
   ],
   "source": [
    "#arithmetic operation\n",
    "print(\"Enter Numbers\")\n",
    "a,b=int(input()),int(input())\n",
    "print(\"Sum:\",a+b)\n",
    "print(\"Difference:\",a-b)\n",
    "print(\"Multiplication:\",a*b)\n",
    "print(\"Quotient:\",a//b)\n",
    "print(\"Remainder:\",a%b)\n",
    "print(\"Fractional Quotient:\",a/b)"
   ]
  },
  {
   "cell_type": "code",
   "execution_count": 9,
   "id": "3f627dc9-f45f-4d49-b08b-28283b7b9795",
   "metadata": {},
   "outputs": [
    {
     "name": "stdout",
     "output_type": "stream",
     "text": [
      "Enter The Length of three sides of the triangle\n"
     ]
    },
    {
     "name": "stdin",
     "output_type": "stream",
     "text": [
      " 3\n",
      " 4\n",
      " 5\n"
     ]
    },
    {
     "name": "stdout",
     "output_type": "stream",
     "text": [
      "Perimeter : 12\n",
      "Area : 6.0\n",
      "angle 1: 36.86989764584401\n",
      "angle 2: 53.13010235415599\n",
      "angle 3: 90.0\n"
     ]
    }
   ],
   "source": [
    "#2.area and perimeter of triangle(Using Heron's equation)\n",
    "import math\n",
    "print(\"Enter The Length of three sides of the triangle\")\n",
    "a,b,c=int(input()),int(input()),int(input())\n",
    "print(\"Perimeter :\",a+b+c)\n",
    "s=(a+b+c)/2\n",
    "print(\"Area :\",math.sqrt(s*(s-a)*(s-b)*(s-c)))\n",
    "print(\"angle 1:\",math.degrees(math.acos((b**2+c**2-a**2)/(2*b*c))))\n",
    "print(\"angle 2:\",math.degrees(math.acos((a**2+c**2-b**2)/(2*a*c))))\n",
    "print(\"angle 3:\",math.degrees(math.acos((b**2+a**2-c**2)/(2*a*b))))\n"
   ]
  },
  {
   "cell_type": "code",
   "execution_count": 11,
   "id": "dd714cc7-0bdf-4159-b882-26df87c0cfc5",
   "metadata": {},
   "outputs": [
    {
     "name": "stdin",
     "output_type": "stream",
     "text": [
      "Enter temperature in celcius:  37\n"
     ]
    },
    {
     "name": "stdout",
     "output_type": "stream",
     "text": [
      "temperature in fahrenheit will be 98.60000000000001\n"
     ]
    }
   ],
   "source": [
    "#convert celcius into fahrenheit\n",
    "c=float(input(\"Enter temperature in celcius: \"))\n",
    "print(\"temperature in fahrenheit will be\",1.8*c+32)"
   ]
  }
 ],
 "metadata": {
  "kernelspec": {
   "display_name": "Python 3 (ipykernel)",
   "language": "python",
   "name": "python3"
  },
  "language_info": {
   "codemirror_mode": {
    "name": "ipython",
    "version": 3
   },
   "file_extension": ".py",
   "mimetype": "text/x-python",
   "name": "python",
   "nbconvert_exporter": "python",
   "pygments_lexer": "ipython3",
   "version": "3.12.4"
  }
 },
 "nbformat": 4,
 "nbformat_minor": 5
}
